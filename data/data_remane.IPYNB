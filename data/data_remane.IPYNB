{
 "cells": [
  {
   "cell_type": "code",
   "execution_count": 1,
   "metadata": {},
   "outputs": [],
   "source": [
    "import os\n",
    "\n",
    "folders = [\"OAF_neutral\",\"OAF_calm\",\"OAF_happy\",\"OAF_sad\",\"OAF_angry\",\"OAF_fear\", \"OAF_disgust\",\"OAF_Pleasant_surprise\"]\n",
    "\n",
    "\n",
    "for idx, folder in enumerate(folders, start=1):\n",
    "    folder_path = f\"raw_file/TESS/{folder}\"  \n",
    "    for i, filename in enumerate(os.listdir(folder_path), start=1):\n",
    "        new_filename = f\"{i:02d}-01-{idx:02d}-01{os.path.splitext(filename)[1]}\" \n",
    "        old_filepath = os.path.join(folder_path, filename)\n",
    "        new_filepath = os.path.join(folder_path, new_filename)\n",
    "\n",
    "        os.rename(old_filepath, new_filepath)\n"
   ]
  }
 ],
 "metadata": {
  "kernelspec": {
   "display_name": "tf_test",
   "language": "python",
   "name": "python3"
  },
  "language_info": {
   "codemirror_mode": {
    "name": "ipython",
    "version": 3
   },
   "file_extension": ".py",
   "mimetype": "text/x-python",
   "name": "python",
   "nbconvert_exporter": "python",
   "pygments_lexer": "ipython3",
   "version": "3.9.18"
  }
 },
 "nbformat": 4,
 "nbformat_minor": 2
}

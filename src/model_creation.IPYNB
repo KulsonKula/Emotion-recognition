{
 "cells": [
  {
   "cell_type": "code",
   "execution_count": 199,
   "metadata": {},
   "outputs": [],
   "source": [
    "import pandas as pd\n",
    "import numpy as np\n",
    "import tensorflow as tf\n",
    "import matplotlib.pyplot as plt\n",
    "from tensorflow.keras.callbacks import LearningRateScheduler\n",
    "import seaborn as sns\n",
    "from sklearn.model_selection import train_test_split\n",
    "from sklearn.preprocessing import MinMaxScaler, OneHotEncoder\n",
    "from tensorflow.keras import layers\n",
    "from tensorflow.keras import models\n",
    "from keras.callbacks import ModelCheckpoint\n",
    "from tensorflow.keras.callbacks import EarlyStopping"
   ]
  },
  {
   "cell_type": "code",
   "execution_count": 200,
   "metadata": {},
   "outputs": [
    {
     "name": "stdout",
     "output_type": "stream",
     "text": [
      "Num GPUs Available:  1\n"
     ]
    }
   ],
   "source": [
    "print(\"Num GPUs Available: \", len(tf.config.list_physical_devices('GPU')))"
   ]
  },
  {
   "cell_type": "code",
   "execution_count": 201,
   "metadata": {},
   "outputs": [],
   "source": [
    "Features=pd.read_csv(\"../data/data_proccesed.csv\")\n",
    "X = Features.iloc[: ,:-1].values\n",
    "Y = Features['labels'].values\n",
    "\n",
    "#Y -= 1\n",
    "\n",
    "# encoder = OneHotEncoder()\n",
    "# Y = encoder.fit_transform(np.array(Y).reshape(-1,1)).toarray()\n",
    "\n",
    "x_train, x_test, y_train, y_test = train_test_split(X, Y, test_size=0.2, random_state=42)\n",
    "\n",
    "# scaler = MinMaxScaler()\n",
    "# x_train = scaler.fit_transform(x_train)\n",
    "# x_test = scaler.transform(x_test)"
   ]
  },
  {
   "cell_type": "code",
   "execution_count": 202,
   "metadata": {},
   "outputs": [],
   "source": [
    "GOAL=0.80\n",
    "# zrobiłem testy przy użyciu optuna i wyszło mi coś takiego\n",
    "# [I 2024-05-10 01:57:23,457] Trial 0 finished with value: 0.8076564073562622 and parameters: {'num_neurons_dense': 116, 'num_neurons_conv_1': 152, 'num_neurons_conv_2': 290, 'num_neurons_conv_3': 502, 'dropout_rate': 0.14453792383769373, 'optimizer': 'adam', 'batch_size': 64}. Best is trial 0 with value: 0.8076564073562622.\n",
    "def custom_scheduler(epoch, lr):\n",
    "    if epoch < 10:\n",
    "        return lr\n",
    "    else:\n",
    "        return float(lr * tf.math.exp(-0.02))\n",
    "scheduler = LearningRateScheduler(custom_scheduler)\n",
    "\n",
    "model_save = ModelCheckpoint(r\"../model/best_model.h5\",\n",
    "                              save_best_only=True,\n",
    "                             mode='max',\n",
    "                             monitor='val_accuracy',\n",
    "                             initial_value_threshold=GOAL,\n",
    "                             verbose=1)\n",
    "\n",
    "normalizer = layers.Normalization()\n",
    "normalizer.adapt(X)\n",
    "\n",
    "k=6\n",
    "model = models.Sequential([\n",
    "    layers.Input(shape=(x_train.shape[1],)), \n",
    "    normalizer,\n",
    "    layers.Reshape((x_train.shape[1], 1)), \n",
    "    layers.Conv1D(152, 1, activation='relu'),\n",
    "    layers.Conv1D(290, 1, activation='relu'),\n",
    "    layers.MaxPooling1D(),\n",
    "    layers.Conv1D(502, 1, activation='relu'),\n",
    "    layers.MaxPooling1D(),\n",
    "    layers.Flatten(),\n",
    "    layers.Dropout(0.25),\n",
    "    layers.Dense(116, activation='relu'),\n",
    "    layers.Dense(9, activation='softmax'),\n",
    "])\n",
    "model.compile(\n",
    "    optimizer=tf.keras.optimizers.Adam(),\n",
    "    loss = 'sparse_categorical_crossentropy',\n",
    "    metrics=['accuracy'],\n",
    ")"
   ]
  },
  {
   "cell_type": "code",
   "execution_count": 203,
   "metadata": {},
   "outputs": [
    {
     "name": "stdout",
     "output_type": "stream",
     "text": [
      "Epoch 1/80\n",
      "47/53 [=========================>....] - ETA: 0s - loss: 1.1526 - accuracy: 0.6067\n",
      "Epoch 1: val_accuracy did not improve from 0.80000\n",
      "53/53 [==============================] - 1s 11ms/step - loss: 1.1217 - accuracy: 0.6173 - val_loss: 0.8366 - val_accuracy: 0.7099 - lr: 0.0010\n",
      "Epoch 2/80\n",
      "43/53 [=======================>......] - ETA: 0s - loss: 0.7215 - accuracy: 0.7416\n",
      "Epoch 2: val_accuracy did not improve from 0.80000\n",
      "53/53 [==============================] - 0s 5ms/step - loss: 0.7160 - accuracy: 0.7435 - val_loss: 0.7805 - val_accuracy: 0.7252 - lr: 0.0010\n",
      "Epoch 3/80\n",
      "44/53 [=======================>......] - ETA: 0s - loss: 0.6413 - accuracy: 0.7642\n",
      "Epoch 3: val_accuracy did not improve from 0.80000\n",
      "53/53 [==============================] - 0s 5ms/step - loss: 0.6469 - accuracy: 0.7612 - val_loss: 0.7295 - val_accuracy: 0.7182 - lr: 0.0010\n",
      "Epoch 4/80\n",
      "42/53 [======================>.......] - ETA: 0s - loss: 0.5870 - accuracy: 0.7805\n",
      "Epoch 4: val_accuracy did not improve from 0.80000\n",
      "53/53 [==============================] - 0s 5ms/step - loss: 0.5993 - accuracy: 0.7756 - val_loss: 0.7323 - val_accuracy: 0.7358 - lr: 0.0010\n",
      "Epoch 5/80\n",
      "46/53 [=========================>....] - ETA: 0s - loss: 0.5644 - accuracy: 0.7833\n",
      "Epoch 5: val_accuracy did not improve from 0.80000\n",
      "53/53 [==============================] - 0s 4ms/step - loss: 0.5673 - accuracy: 0.7827 - val_loss: 0.6718 - val_accuracy: 0.7618 - lr: 0.0010\n",
      "Epoch 6/80\n",
      "43/53 [=======================>......] - ETA: 0s - loss: 0.5530 - accuracy: 0.7889\n",
      "Epoch 6: val_accuracy did not improve from 0.80000\n",
      "53/53 [==============================] - 0s 4ms/step - loss: 0.5454 - accuracy: 0.7895 - val_loss: 0.6895 - val_accuracy: 0.7370 - lr: 0.0010\n",
      "Epoch 7/80\n",
      "48/53 [==========================>...] - ETA: 0s - loss: 0.5319 - accuracy: 0.7998\n",
      "Epoch 7: val_accuracy did not improve from 0.80000\n",
      "53/53 [==============================] - 0s 4ms/step - loss: 0.5271 - accuracy: 0.8004 - val_loss: 0.6783 - val_accuracy: 0.7571 - lr: 0.0010\n",
      "Epoch 8/80\n",
      "46/53 [=========================>....] - ETA: 0s - loss: 0.5089 - accuracy: 0.8091\n",
      "Epoch 8: val_accuracy did not improve from 0.80000\n",
      "53/53 [==============================] - 0s 4ms/step - loss: 0.5014 - accuracy: 0.8134 - val_loss: 0.6778 - val_accuracy: 0.7488 - lr: 0.0010\n",
      "Epoch 9/80\n",
      "46/53 [=========================>....] - ETA: 0s - loss: 0.4732 - accuracy: 0.8166\n",
      "Epoch 9: val_accuracy did not improve from 0.80000\n",
      "53/53 [==============================] - 0s 4ms/step - loss: 0.4635 - accuracy: 0.8190 - val_loss: 0.6837 - val_accuracy: 0.7759 - lr: 0.0010\n",
      "Epoch 10/80\n",
      "44/53 [=======================>......] - ETA: 0s - loss: 0.4536 - accuracy: 0.8249\n",
      "Epoch 10: val_accuracy did not improve from 0.80000\n",
      "53/53 [==============================] - 0s 5ms/step - loss: 0.4602 - accuracy: 0.8231 - val_loss: 0.6879 - val_accuracy: 0.7583 - lr: 0.0010\n",
      "Epoch 11/80\n",
      "46/53 [=========================>....] - ETA: 0s - loss: 0.4314 - accuracy: 0.8339\n",
      "Epoch 11: val_accuracy did not improve from 0.80000\n",
      "53/53 [==============================] - 0s 4ms/step - loss: 0.4284 - accuracy: 0.8349 - val_loss: 0.6713 - val_accuracy: 0.7759 - lr: 9.8020e-04\n",
      "Epoch 12/80\n",
      "48/53 [==========================>...] - ETA: 0s - loss: 0.4035 - accuracy: 0.8477\n",
      "Epoch 12: val_accuracy did not improve from 0.80000\n",
      "53/53 [==============================] - 0s 4ms/step - loss: 0.4002 - accuracy: 0.8494 - val_loss: 0.6595 - val_accuracy: 0.7818 - lr: 9.6079e-04\n",
      "Epoch 13/80\n",
      "43/53 [=======================>......] - ETA: 0s - loss: 0.3537 - accuracy: 0.8605\n",
      "Epoch 13: val_accuracy did not improve from 0.80000\n",
      "53/53 [==============================] - 0s 5ms/step - loss: 0.3736 - accuracy: 0.8535 - val_loss: 0.6656 - val_accuracy: 0.7736 - lr: 9.4176e-04\n",
      "Epoch 14/80\n",
      "49/53 [==========================>...] - ETA: 0s - loss: 0.3674 - accuracy: 0.8616\n",
      "Epoch 14: val_accuracy did not improve from 0.80000\n",
      "53/53 [==============================] - 0s 4ms/step - loss: 0.3634 - accuracy: 0.8635 - val_loss: 0.6815 - val_accuracy: 0.7712 - lr: 9.2312e-04\n",
      "Epoch 15/80\n",
      "48/53 [==========================>...] - ETA: 0s - loss: 0.3413 - accuracy: 0.8708\n",
      "Epoch 15: val_accuracy did not improve from 0.80000\n",
      "53/53 [==============================] - 0s 4ms/step - loss: 0.3448 - accuracy: 0.8700 - val_loss: 0.7413 - val_accuracy: 0.7712 - lr: 9.0484e-04\n",
      "Epoch 16/80\n",
      "46/53 [=========================>....] - ETA: 0s - loss: 0.3340 - accuracy: 0.8798\n",
      "Epoch 16: val_accuracy did not improve from 0.80000\n",
      "53/53 [==============================] - 0s 4ms/step - loss: 0.3412 - accuracy: 0.8756 - val_loss: 0.7490 - val_accuracy: 0.7677 - lr: 8.8692e-04\n",
      "Epoch 17/80\n",
      "37/53 [===================>..........] - ETA: 0s - loss: 0.3371 - accuracy: 0.8822\n",
      "Epoch 17: val_accuracy did not improve from 0.80000\n",
      "53/53 [==============================] - 0s 4ms/step - loss: 0.3364 - accuracy: 0.8809 - val_loss: 0.7535 - val_accuracy: 0.7606 - lr: 8.6936e-04\n",
      "Epoch 18/80\n",
      "37/53 [===================>..........] - ETA: 0s - loss: 0.3094 - accuracy: 0.8940\n",
      "Epoch 18: val_accuracy did not improve from 0.80000\n",
      "53/53 [==============================] - 0s 4ms/step - loss: 0.3228 - accuracy: 0.8892 - val_loss: 0.7096 - val_accuracy: 0.7842 - lr: 8.5214e-04\n",
      "Epoch 19/80\n",
      "37/53 [===================>..........] - ETA: 0s - loss: 0.2994 - accuracy: 0.8919\n",
      "Epoch 19: val_accuracy did not improve from 0.80000\n",
      "53/53 [==============================] - 0s 4ms/step - loss: 0.3073 - accuracy: 0.8900 - val_loss: 0.7199 - val_accuracy: 0.7830 - lr: 8.3527e-04\n",
      "Epoch 20/80\n",
      "53/53 [==============================] - ETA: 0s - loss: 0.2701 - accuracy: 0.9021\n",
      "Epoch 20: val_accuracy did not improve from 0.80000\n",
      "53/53 [==============================] - 0s 4ms/step - loss: 0.2701 - accuracy: 0.9021 - val_loss: 0.7328 - val_accuracy: 0.7854 - lr: 8.1873e-04\n",
      "Epoch 21/80\n",
      "52/53 [============================>.] - ETA: 0s - loss: 0.2450 - accuracy: 0.9114\n",
      "Epoch 21: val_accuracy did not improve from 0.80000\n",
      "53/53 [==============================] - 0s 4ms/step - loss: 0.2435 - accuracy: 0.9119 - val_loss: 0.8132 - val_accuracy: 0.7677 - lr: 8.0252e-04\n",
      "Epoch 22/80\n",
      "53/53 [==============================] - ETA: 0s - loss: 0.2297 - accuracy: 0.9160\n",
      "Epoch 22: val_accuracy did not improve from 0.80000\n",
      "53/53 [==============================] - 0s 4ms/step - loss: 0.2297 - accuracy: 0.9160 - val_loss: 0.8175 - val_accuracy: 0.7795 - lr: 7.8663e-04\n",
      "Epoch 23/80\n",
      "53/53 [==============================] - ETA: 0s - loss: 0.2173 - accuracy: 0.9180\n",
      "Epoch 23: val_accuracy did not improve from 0.80000\n",
      "53/53 [==============================] - 0s 4ms/step - loss: 0.2173 - accuracy: 0.9180 - val_loss: 0.8972 - val_accuracy: 0.7783 - lr: 7.7105e-04\n",
      "Epoch 24/80\n",
      "37/53 [===================>..........] - ETA: 0s - loss: 0.2101 - accuracy: 0.9236\n",
      "Epoch 24: val_accuracy did not improve from 0.80000\n",
      "53/53 [==============================] - 0s 4ms/step - loss: 0.2014 - accuracy: 0.9269 - val_loss: 0.9246 - val_accuracy: 0.7689 - lr: 7.5578e-04\n",
      "Epoch 25/80\n",
      "36/53 [===================>..........] - ETA: 0s - loss: 0.2039 - accuracy: 0.9249\n",
      "Epoch 25: val_accuracy did not improve from 0.80000\n",
      "53/53 [==============================] - 0s 4ms/step - loss: 0.1995 - accuracy: 0.9278 - val_loss: 0.9188 - val_accuracy: 0.7759 - lr: 7.4082e-04\n",
      "Epoch 26/80\n",
      "52/53 [============================>.] - ETA: 0s - loss: 0.1686 - accuracy: 0.9408\n",
      "Epoch 26: val_accuracy did not improve from 0.80000\n",
      "53/53 [==============================] - 0s 4ms/step - loss: 0.1687 - accuracy: 0.9404 - val_loss: 1.0454 - val_accuracy: 0.7712 - lr: 7.2615e-04\n",
      "Epoch 27/80\n",
      "53/53 [==============================] - ETA: 0s - loss: 0.1892 - accuracy: 0.9348\n",
      "Epoch 27: val_accuracy did not improve from 0.80000\n",
      "53/53 [==============================] - 0s 4ms/step - loss: 0.1892 - accuracy: 0.9348 - val_loss: 1.0906 - val_accuracy: 0.7653 - lr: 7.1177e-04\n",
      "Epoch 28/80\n",
      "37/53 [===================>..........] - ETA: 0s - loss: 0.2080 - accuracy: 0.9307\n",
      "Epoch 28: val_accuracy did not improve from 0.80000\n",
      "53/53 [==============================] - 0s 4ms/step - loss: 0.2182 - accuracy: 0.9242 - val_loss: 0.9992 - val_accuracy: 0.7642 - lr: 6.9768e-04\n",
      "Epoch 29/80\n",
      "37/53 [===================>..........] - ETA: 0s - loss: 0.1649 - accuracy: 0.9417\n",
      "Epoch 29: val_accuracy did not improve from 0.80000\n",
      "53/53 [==============================] - 0s 4ms/step - loss: 0.1631 - accuracy: 0.9402 - val_loss: 1.0155 - val_accuracy: 0.7724 - lr: 6.8386e-04\n",
      "Epoch 30/80\n",
      "53/53 [==============================] - ETA: 0s - loss: 0.1362 - accuracy: 0.9514\n",
      "Epoch 30: val_accuracy did not improve from 0.80000\n",
      "53/53 [==============================] - 0s 4ms/step - loss: 0.1362 - accuracy: 0.9514 - val_loss: 1.1148 - val_accuracy: 0.7818 - lr: 6.7032e-04\n",
      "Epoch 31/80\n",
      "36/53 [===================>..........] - ETA: 0s - loss: 0.1267 - accuracy: 0.9570\n",
      "Epoch 31: val_accuracy did not improve from 0.80000\n",
      "53/53 [==============================] - 0s 4ms/step - loss: 0.1300 - accuracy: 0.9546 - val_loss: 1.1348 - val_accuracy: 0.7807 - lr: 6.5705e-04\n",
      "Epoch 32/80\n",
      "53/53 [==============================] - ETA: 0s - loss: 0.1274 - accuracy: 0.9534\n",
      "Epoch 32: val_accuracy did not improve from 0.80000\n",
      "53/53 [==============================] - 0s 4ms/step - loss: 0.1274 - accuracy: 0.9534 - val_loss: 1.2492 - val_accuracy: 0.7653 - lr: 6.4404e-04\n",
      "Epoch 33/80\n",
      "36/53 [===================>..........] - ETA: 0s - loss: 0.1141 - accuracy: 0.9618\n",
      "Epoch 33: val_accuracy did not improve from 0.80000\n",
      "53/53 [==============================] - 0s 4ms/step - loss: 0.1149 - accuracy: 0.9617 - val_loss: 1.2048 - val_accuracy: 0.7606 - lr: 6.3128e-04\n",
      "Epoch 34/80\n",
      "52/53 [============================>.] - ETA: 0s - loss: 0.1090 - accuracy: 0.9609\n",
      "Epoch 34: val_accuracy did not improve from 0.80000\n",
      "53/53 [==============================] - 0s 4ms/step - loss: 0.1084 - accuracy: 0.9614 - val_loss: 1.2440 - val_accuracy: 0.7665 - lr: 6.1878e-04\n",
      "Epoch 35/80\n",
      "36/53 [===================>..........] - ETA: 0s - loss: 0.0949 - accuracy: 0.9688\n",
      "Epoch 35: val_accuracy did not improve from 0.80000\n",
      "53/53 [==============================] - 0s 4ms/step - loss: 0.1010 - accuracy: 0.9670 - val_loss: 1.4017 - val_accuracy: 0.7618 - lr: 6.0653e-04\n",
      "Epoch 36/80\n",
      "53/53 [==============================] - ETA: 0s - loss: 0.0891 - accuracy: 0.9702\n",
      "Epoch 36: val_accuracy did not improve from 0.80000\n",
      "53/53 [==============================] - 0s 4ms/step - loss: 0.0891 - accuracy: 0.9702 - val_loss: 1.4043 - val_accuracy: 0.7759 - lr: 5.9452e-04\n",
      "Epoch 37/80\n",
      "48/53 [==========================>...] - ETA: 0s - loss: 0.0826 - accuracy: 0.9710\n",
      "Epoch 37: val_accuracy did not improve from 0.80000\n",
      "53/53 [==============================] - 0s 4ms/step - loss: 0.0811 - accuracy: 0.9711 - val_loss: 1.4773 - val_accuracy: 0.7795 - lr: 5.8275e-04\n",
      "Epoch 38/80\n",
      "37/53 [===================>..........] - ETA: 0s - loss: 0.0883 - accuracy: 0.9692\n",
      "Epoch 38: val_accuracy did not improve from 0.80000\n",
      "53/53 [==============================] - 0s 4ms/step - loss: 0.0951 - accuracy: 0.9664 - val_loss: 1.6395 - val_accuracy: 0.7583 - lr: 5.7121e-04\n",
      "Epoch 39/80\n",
      "53/53 [==============================] - ETA: 0s - loss: 0.0964 - accuracy: 0.9670\n",
      "Epoch 39: val_accuracy did not improve from 0.80000\n",
      "53/53 [==============================] - 0s 4ms/step - loss: 0.0964 - accuracy: 0.9670 - val_loss: 1.3757 - val_accuracy: 0.7759 - lr: 5.5990e-04\n",
      "Epoch 40/80\n",
      "36/53 [===================>..........] - ETA: 0s - loss: 0.0740 - accuracy: 0.9744\n",
      "Epoch 40: val_accuracy did not improve from 0.80000\n",
      "53/53 [==============================] - 0s 4ms/step - loss: 0.0755 - accuracy: 0.9755 - val_loss: 1.5054 - val_accuracy: 0.7724 - lr: 5.4881e-04\n",
      "Epoch 41/80\n",
      "53/53 [==============================] - ETA: 0s - loss: 0.0745 - accuracy: 0.9779\n",
      "Epoch 41: val_accuracy did not improve from 0.80000\n",
      "53/53 [==============================] - 0s 4ms/step - loss: 0.0745 - accuracy: 0.9779 - val_loss: 1.7112 - val_accuracy: 0.7406 - lr: 5.3794e-04\n",
      "Epoch 42/80\n",
      "37/53 [===================>..........] - ETA: 0s - loss: 0.0784 - accuracy: 0.9776\n",
      "Epoch 42: val_accuracy did not improve from 0.80000\n",
      "53/53 [==============================] - 0s 4ms/step - loss: 0.0818 - accuracy: 0.9749 - val_loss: 1.6069 - val_accuracy: 0.7653 - lr: 5.2729e-04\n",
      "Epoch 43/80\n",
      "53/53 [==============================] - ETA: 0s - loss: 0.0592 - accuracy: 0.9811\n",
      "Epoch 43: val_accuracy did not improve from 0.80000\n",
      "53/53 [==============================] - 0s 4ms/step - loss: 0.0592 - accuracy: 0.9811 - val_loss: 1.6529 - val_accuracy: 0.7594 - lr: 5.1685e-04\n",
      "Epoch 44/80\n",
      "37/53 [===================>..........] - ETA: 0s - loss: 0.0435 - accuracy: 0.9840\n",
      "Epoch 44: val_accuracy did not improve from 0.80000\n",
      "53/53 [==============================] - 0s 4ms/step - loss: 0.0490 - accuracy: 0.9838 - val_loss: 1.7305 - val_accuracy: 0.7653 - lr: 5.0662e-04\n",
      "Epoch 45/80\n",
      "36/53 [===================>..........] - ETA: 0s - loss: 0.0517 - accuracy: 0.9822\n",
      "Epoch 45: val_accuracy did not improve from 0.80000\n",
      "53/53 [==============================] - 0s 4ms/step - loss: 0.0487 - accuracy: 0.9844 - val_loss: 1.7840 - val_accuracy: 0.7571 - lr: 4.9659e-04\n",
      "Epoch 46/80\n",
      "36/53 [===================>..........] - ETA: 0s - loss: 0.0506 - accuracy: 0.9835\n",
      "Epoch 46: val_accuracy did not improve from 0.80000\n",
      "53/53 [==============================] - 0s 4ms/step - loss: 0.0466 - accuracy: 0.9847 - val_loss: 1.7410 - val_accuracy: 0.7700 - lr: 4.8675e-04\n",
      "Epoch 47/80\n",
      "53/53 [==============================] - ETA: 0s - loss: 0.0344 - accuracy: 0.9894\n",
      "Epoch 47: val_accuracy did not improve from 0.80000\n",
      "53/53 [==============================] - 0s 4ms/step - loss: 0.0344 - accuracy: 0.9894 - val_loss: 1.8287 - val_accuracy: 0.7630 - lr: 4.7711e-04\n",
      "Epoch 48/80\n",
      "37/53 [===================>..........] - ETA: 0s - loss: 0.0342 - accuracy: 0.9873\n",
      "Epoch 48: val_accuracy did not improve from 0.80000\n",
      "53/53 [==============================] - 0s 4ms/step - loss: 0.0350 - accuracy: 0.9876 - val_loss: 1.8827 - val_accuracy: 0.7677 - lr: 4.6767e-04\n",
      "Epoch 49/80\n",
      "53/53 [==============================] - ETA: 0s - loss: 0.0411 - accuracy: 0.9864\n",
      "Epoch 49: val_accuracy did not improve from 0.80000\n",
      "53/53 [==============================] - 0s 4ms/step - loss: 0.0411 - accuracy: 0.9864 - val_loss: 1.8827 - val_accuracy: 0.7618 - lr: 4.5841e-04\n",
      "Epoch 50/80\n",
      "36/53 [===================>..........] - ETA: 0s - loss: 0.0314 - accuracy: 0.9909\n",
      "Epoch 50: val_accuracy did not improve from 0.80000\n",
      "53/53 [==============================] - 0s 4ms/step - loss: 0.0306 - accuracy: 0.9909 - val_loss: 1.9620 - val_accuracy: 0.7677 - lr: 4.4933e-04\n",
      "Epoch 51/80\n",
      "53/53 [==============================] - ETA: 0s - loss: 0.0284 - accuracy: 0.9912\n",
      "Epoch 51: val_accuracy did not improve from 0.80000\n",
      "53/53 [==============================] - 0s 4ms/step - loss: 0.0284 - accuracy: 0.9912 - val_loss: 2.0095 - val_accuracy: 0.7700 - lr: 4.4043e-04\n",
      "Epoch 52/80\n",
      "52/53 [============================>.] - ETA: 0s - loss: 0.0259 - accuracy: 0.9934\n",
      "Epoch 52: val_accuracy did not improve from 0.80000\n",
      "53/53 [==============================] - 0s 4ms/step - loss: 0.0256 - accuracy: 0.9935 - val_loss: 2.0806 - val_accuracy: 0.7653 - lr: 4.3171e-04\n",
      "Epoch 53/80\n",
      "51/53 [===========================>..] - ETA: 0s - loss: 0.0211 - accuracy: 0.9939\n",
      "Epoch 53: val_accuracy did not improve from 0.80000\n",
      "53/53 [==============================] - 0s 4ms/step - loss: 0.0213 - accuracy: 0.9938 - val_loss: 2.1507 - val_accuracy: 0.7618 - lr: 4.2316e-04\n",
      "Epoch 54/80\n",
      "53/53 [==============================] - ETA: 0s - loss: 0.0283 - accuracy: 0.9909\n",
      "Epoch 54: val_accuracy did not improve from 0.80000\n",
      "53/53 [==============================] - 0s 4ms/step - loss: 0.0283 - accuracy: 0.9909 - val_loss: 2.0464 - val_accuracy: 0.7748 - lr: 4.1478e-04\n",
      "Epoch 55/80\n",
      "49/53 [==========================>...] - ETA: 0s - loss: 0.0173 - accuracy: 0.9971\n",
      "Epoch 55: val_accuracy did not improve from 0.80000\n",
      "53/53 [==============================] - 0s 4ms/step - loss: 0.0175 - accuracy: 0.9968 - val_loss: 2.1270 - val_accuracy: 0.7677 - lr: 4.0657e-04\n",
      "Epoch 56/80\n",
      "50/53 [===========================>..] - ETA: 0s - loss: 0.0197 - accuracy: 0.9937\n",
      "Epoch 56: val_accuracy did not improve from 0.80000\n",
      "53/53 [==============================] - 0s 4ms/step - loss: 0.0218 - accuracy: 0.9926 - val_loss: 2.1901 - val_accuracy: 0.7677 - lr: 3.9852e-04\n",
      "Epoch 57/80\n",
      "53/53 [==============================] - ETA: 0s - loss: 0.0188 - accuracy: 0.9932\n",
      "Epoch 57: val_accuracy did not improve from 0.80000\n",
      "53/53 [==============================] - 0s 4ms/step - loss: 0.0188 - accuracy: 0.9932 - val_loss: 2.1832 - val_accuracy: 0.7677 - lr: 3.9063e-04\n",
      "Epoch 58/80\n",
      "49/53 [==========================>...] - ETA: 0s - loss: 0.0211 - accuracy: 0.9927\n",
      "Epoch 58: val_accuracy did not improve from 0.80000\n",
      "53/53 [==============================] - 0s 4ms/step - loss: 0.0204 - accuracy: 0.9932 - val_loss: 2.2180 - val_accuracy: 0.7689 - lr: 3.8289e-04\n",
      "Epoch 59/80\n",
      "36/53 [===================>..........] - ETA: 0s - loss: 0.0163 - accuracy: 0.9965\n",
      "Epoch 59: val_accuracy did not improve from 0.80000\n",
      "53/53 [==============================] - 0s 4ms/step - loss: 0.0159 - accuracy: 0.9962 - val_loss: 2.2401 - val_accuracy: 0.7736 - lr: 3.7531e-04\n",
      "Epoch 60/80\n",
      "37/53 [===================>..........] - ETA: 0s - loss: 0.0265 - accuracy: 0.9941\n",
      "Epoch 60: val_accuracy did not improve from 0.80000\n",
      "53/53 [==============================] - 0s 4ms/step - loss: 0.0261 - accuracy: 0.9932 - val_loss: 2.3039 - val_accuracy: 0.7583 - lr: 3.6788e-04\n",
      "Epoch 61/80\n",
      "53/53 [==============================] - ETA: 0s - loss: 0.0235 - accuracy: 0.9929\n",
      "Epoch 61: val_accuracy did not improve from 0.80000\n",
      "53/53 [==============================] - 0s 4ms/step - loss: 0.0235 - accuracy: 0.9929 - val_loss: 2.4479 - val_accuracy: 0.7500 - lr: 3.6060e-04\n",
      "Epoch 62/80\n",
      "53/53 [==============================] - ETA: 0s - loss: 0.0310 - accuracy: 0.9894\n",
      "Epoch 62: val_accuracy did not improve from 0.80000\n",
      "53/53 [==============================] - 0s 4ms/step - loss: 0.0310 - accuracy: 0.9894 - val_loss: 2.3556 - val_accuracy: 0.7594 - lr: 3.5345e-04\n",
      "Epoch 63/80\n",
      "36/53 [===================>..........] - ETA: 0s - loss: 0.0215 - accuracy: 0.9926\n",
      "Epoch 63: val_accuracy did not improve from 0.80000\n",
      "53/53 [==============================] - 0s 4ms/step - loss: 0.0226 - accuracy: 0.9926 - val_loss: 2.3145 - val_accuracy: 0.7618 - lr: 3.4646e-04\n",
      "Epoch 64/80\n",
      "50/53 [===========================>..] - ETA: 0s - loss: 0.0188 - accuracy: 0.9937\n",
      "Epoch 64: val_accuracy did not improve from 0.80000\n",
      "53/53 [==============================] - 0s 4ms/step - loss: 0.0200 - accuracy: 0.9935 - val_loss: 2.3148 - val_accuracy: 0.7712 - lr: 3.3960e-04\n",
      "Epoch 65/80\n",
      "46/53 [=========================>....] - ETA: 0s - loss: 0.0121 - accuracy: 0.9973\n",
      "Epoch 65: val_accuracy did not improve from 0.80000\n",
      "53/53 [==============================] - 0s 4ms/step - loss: 0.0122 - accuracy: 0.9976 - val_loss: 2.3180 - val_accuracy: 0.7606 - lr: 3.3287e-04\n",
      "Epoch 66/80\n",
      "37/53 [===================>..........] - ETA: 0s - loss: 0.0086 - accuracy: 0.9992\n",
      "Epoch 66: val_accuracy did not improve from 0.80000\n",
      "53/53 [==============================] - 0s 4ms/step - loss: 0.0090 - accuracy: 0.9991 - val_loss: 2.3770 - val_accuracy: 0.7677 - lr: 3.2628e-04\n",
      "Epoch 67/80\n",
      "53/53 [==============================] - ETA: 0s - loss: 0.0109 - accuracy: 0.9973\n",
      "Epoch 67: val_accuracy did not improve from 0.80000\n",
      "53/53 [==============================] - 0s 4ms/step - loss: 0.0109 - accuracy: 0.9973 - val_loss: 2.4891 - val_accuracy: 0.7642 - lr: 3.1982e-04\n",
      "Epoch 68/80\n",
      "49/53 [==========================>...] - ETA: 0s - loss: 0.0125 - accuracy: 0.9971\n",
      "Epoch 68: val_accuracy did not improve from 0.80000\n",
      "53/53 [==============================] - 0s 4ms/step - loss: 0.0128 - accuracy: 0.9971 - val_loss: 2.3798 - val_accuracy: 0.7783 - lr: 3.1349e-04\n",
      "Epoch 69/80\n",
      "50/53 [===========================>..] - ETA: 0s - loss: 0.0092 - accuracy: 0.9987\n",
      "Epoch 69: val_accuracy did not improve from 0.80000\n",
      "53/53 [==============================] - 0s 4ms/step - loss: 0.0092 - accuracy: 0.9985 - val_loss: 2.4312 - val_accuracy: 0.7606 - lr: 3.0728e-04\n",
      "Epoch 70/80\n",
      "49/53 [==========================>...] - ETA: 0s - loss: 0.0099 - accuracy: 0.9987\n",
      "Epoch 70: val_accuracy did not improve from 0.80000\n",
      "53/53 [==============================] - 0s 4ms/step - loss: 0.0096 - accuracy: 0.9988 - val_loss: 2.4621 - val_accuracy: 0.7606 - lr: 3.0119e-04\n",
      "Epoch 71/80\n",
      "48/53 [==========================>...] - ETA: 0s - loss: 0.0107 - accuracy: 0.9971\n",
      "Epoch 71: val_accuracy did not improve from 0.80000\n",
      "53/53 [==============================] - 0s 4ms/step - loss: 0.0107 - accuracy: 0.9971 - val_loss: 2.4673 - val_accuracy: 0.7665 - lr: 2.9523e-04\n",
      "Epoch 72/80\n",
      "36/53 [===================>..........] - ETA: 0s - loss: 0.0113 - accuracy: 0.9978\n",
      "Epoch 72: val_accuracy did not improve from 0.80000\n",
      "53/53 [==============================] - 0s 4ms/step - loss: 0.0098 - accuracy: 0.9982 - val_loss: 2.5091 - val_accuracy: 0.7630 - lr: 2.8938e-04\n",
      "Epoch 73/80\n",
      "36/53 [===================>..........] - ETA: 0s - loss: 0.0080 - accuracy: 0.9991\n",
      "Epoch 73: val_accuracy did not improve from 0.80000\n",
      "53/53 [==============================] - 0s 4ms/step - loss: 0.0077 - accuracy: 0.9991 - val_loss: 2.6011 - val_accuracy: 0.7642 - lr: 2.8365e-04\n",
      "Epoch 74/80\n",
      "50/53 [===========================>..] - ETA: 0s - loss: 0.0086 - accuracy: 0.9984\n",
      "Epoch 74: val_accuracy did not improve from 0.80000\n",
      "53/53 [==============================] - 0s 4ms/step - loss: 0.0084 - accuracy: 0.9985 - val_loss: 2.5911 - val_accuracy: 0.7642 - lr: 2.7804e-04\n",
      "Epoch 75/80\n",
      "53/53 [==============================] - ETA: 0s - loss: 0.0127 - accuracy: 0.9968\n",
      "Epoch 75: val_accuracy did not improve from 0.80000\n",
      "53/53 [==============================] - 0s 4ms/step - loss: 0.0127 - accuracy: 0.9968 - val_loss: 2.6733 - val_accuracy: 0.7618 - lr: 2.7253e-04\n",
      "Epoch 76/80\n",
      "36/53 [===================>..........] - ETA: 0s - loss: 0.0099 - accuracy: 0.9974\n",
      "Epoch 76: val_accuracy did not improve from 0.80000\n",
      "53/53 [==============================] - 0s 4ms/step - loss: 0.0101 - accuracy: 0.9976 - val_loss: 2.5978 - val_accuracy: 0.7771 - lr: 2.6714e-04\n",
      "Epoch 77/80\n",
      "53/53 [==============================] - ETA: 0s - loss: 0.0072 - accuracy: 0.9985\n",
      "Epoch 77: val_accuracy did not improve from 0.80000\n",
      "53/53 [==============================] - 0s 4ms/step - loss: 0.0072 - accuracy: 0.9985 - val_loss: 2.6245 - val_accuracy: 0.7677 - lr: 2.6185e-04\n",
      "Epoch 78/80\n",
      "52/53 [============================>.] - ETA: 0s - loss: 0.0068 - accuracy: 0.9985\n",
      "Epoch 78: val_accuracy did not improve from 0.80000\n",
      "53/53 [==============================] - 0s 4ms/step - loss: 0.0069 - accuracy: 0.9985 - val_loss: 2.6735 - val_accuracy: 0.7665 - lr: 2.5666e-04\n",
      "Epoch 79/80\n",
      "53/53 [==============================] - ETA: 0s - loss: 0.0070 - accuracy: 0.9985\n",
      "Epoch 79: val_accuracy did not improve from 0.80000\n",
      "53/53 [==============================] - 0s 4ms/step - loss: 0.0070 - accuracy: 0.9985 - val_loss: 2.7317 - val_accuracy: 0.7630 - lr: 2.5158e-04\n",
      "Epoch 80/80\n",
      "53/53 [==============================] - ETA: 0s - loss: 0.0096 - accuracy: 0.9979\n",
      "Epoch 80: val_accuracy did not improve from 0.80000\n",
      "53/53 [==============================] - 0s 4ms/step - loss: 0.0096 - accuracy: 0.9979 - val_loss: 2.6879 - val_accuracy: 0.7642 - lr: 2.4660e-04\n"
     ]
    }
   ],
   "source": [
    "history=model.fit(x_train, y_train, epochs=80, batch_size=64, validation_data=(x_test, y_test),callbacks=[scheduler,model_save])"
   ]
  },
  {
   "cell_type": "code",
   "execution_count": 204,
   "metadata": {},
   "outputs": [
    {
     "name": "stdout",
     "output_type": "stream",
     "text": [
      "27/27 [==============================] - 0s 2ms/step - loss: 2.6879 - accuracy: 0.7642\n"
     ]
    },
    {
     "data": {
      "text/plain": [
       "[2.687927722930908, 0.7641509175300598]"
      ]
     },
     "execution_count": 204,
     "metadata": {},
     "output_type": "execute_result"
    }
   ],
   "source": [
    "model.save(r\"../model/model.h5\")\n",
    "model.evaluate(x_test,y_test)"
   ]
  },
  {
   "cell_type": "code",
   "execution_count": 205,
   "metadata": {},
   "outputs": [
    {
     "name": "stdout",
     "output_type": "stream",
     "text": [
      "Nie udało sie osiąganć80.0% accuracy\n"
     ]
    }
   ],
   "source": [
    "try:\n",
    "    best_model = tf.keras.models.load_model(r'../model/best_model.h5')\n",
    "    best_model.evaluate(x_test,y_test)\n",
    "except:\n",
    "    print(\"Nie udało sie osiąganć \"+str(GOAL*100)+\"% accuracy\")"
   ]
  },
  {
   "cell_type": "code",
   "execution_count": 206,
   "metadata": {},
   "outputs": [
    {
     "name": "stdout",
     "output_type": "stream",
     "text": [
      "27/27 [==============================] - 0s 2ms/step - loss: 1.9413 - accuracy: 0.8031\n"
     ]
    },
    {
     "data": {
      "text/plain": [
       "[1.9412624835968018, 0.8030660152435303]"
      ]
     },
     "execution_count": 206,
     "metadata": {},
     "output_type": "execute_result"
    }
   ],
   "source": [
    "current_best_model = tf.keras.models.load_model(r'../model/current_best_model.h5')\n",
    "current_best_model.evaluate(x_test,y_test)"
   ]
  },
  {
   "cell_type": "code",
   "execution_count": 207,
   "metadata": {},
   "outputs": [
    {
     "data": {
      "image/png": "[encoded data removed]",
      "text/plain": [
       "<Figure size 640x480 with 1 Axes>"
      ]
     },
     "metadata": {},
     "output_type": "display_data"
    }
   ],
   "source": [
    "metrics = history.history\n",
    "plt.plot(history.epoch, metrics['accuracy'], metrics['val_accuracy'])\n",
    "plt.legend(['loss', 'val_loss'])\n",
    "plt.show()"
   ]
  },
  {
   "cell_type": "code",
   "execution_count": 208,
   "metadata": {},
   "outputs": [
    {
     "name": "stdout",
     "output_type": "stream",
     "text": [
      "27/27 [==============================] - 0s 1ms/step\n",
      "Test set accuracy: 76%\n"
     ]
    },
    {
     "data": {
      "image/png": "[encoded data removed]",
      "text/plain": [
       "<Figure size 1000x800 with 2 Axes>"
      ]
     },
     "metadata": {},
     "output_type": "display_data"
    }
   ],
   "source": [
    "commands=[\"neutral\",\"calm\", \"happy\", \"sad\", \"angry\", \"fearful\", \"disgust\", \"surprised\"]\n",
    "\n",
    "y_pred = np.argmax(model.predict(x_test), axis=1)\n",
    "y_true = y_test\n",
    "\n",
    "test_acc = sum(y_pred == y_true) / len(y_true)\n",
    "print(f'Test set accuracy: {test_acc:.0%}')\n",
    "\n",
    "confusion_mtx = tf.math.confusion_matrix(y_true, y_pred)\n",
    "plt.figure(figsize=(10, 8))\n",
    "sns.heatmap(confusion_mtx,\n",
    "            xticklabels=commands,\n",
    "            yticklabels=commands,\n",
    "            annot=True, fmt='g',\n",
    "            cmap='coolwarm')\n",
    "plt.xlabel('Prediction')\n",
    "plt.ylabel('Label')\n",
    "plt.show()"
   ]
  },
  {
   "cell_type": "code",
   "execution_count": 209,
   "metadata": {},
   "outputs": [
    {
     "name": "stdout",
     "output_type": "stream",
     "text": [
      "27/27 [==============================] - 0s 2ms/step - loss: 2.6879 - accuracy: 0.7642\n"
     ]
    },
    {
     "data": {
      "text/plain": [
       "[2.687927722930908, 0.7641509175300598]"
      ]
     },
     "execution_count": 209,
     "metadata": {},
     "output_type": "execute_result"
    }
   ],
   "source": [
    "model.evaluate(x_test,y_test)"
   ]
  }
 ],
 "metadata": {
  "kernelspec": {
   "display_name": "Python 3",
   "language": "python",
   "name": "python3"
  },
  "language_info": {
   "codemirror_mode": {
    "name": "ipython",
    "version": 3
   },
   "file_extension": ".py",
   "mimetype": "text/x-python",
   "name": "python",
   "nbconvert_exporter": "python",
   "pygments_lexer": "ipython3",
   "version": "3.9.18"
  }
 },
 "nbformat": 4,
 "nbformat_minor": 2
}

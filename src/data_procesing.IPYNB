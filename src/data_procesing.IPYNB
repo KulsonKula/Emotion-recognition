{
 "cells": [
  {
   "cell_type": "code",
   "execution_count": 1,
   "metadata": {},
   "outputs": [],
   "source": [
    "import os\n",
    "import librosa\n",
    "import pandas as pd\n",
    "import numpy as np"
   ]
  },
  {
   "cell_type": "code",
   "execution_count": 2,
   "metadata": {},
   "outputs": [],
   "source": [
    "def extract_features(data, sample_rate):\n",
    "    # ZCR\n",
    "    result = np.array([])\n",
    "    zcr = np.mean(librosa.feature.zero_crossing_rate(y=data).T, axis=0)\n",
    "    result=np.hstack((result, zcr))\n",
    "\n",
    "    # Chroma_stft\n",
    "    stft = np.abs(librosa.stft(data))\n",
    "    chroma_stft = np.mean(librosa.feature.chroma_stft(S=stft, sr=sample_rate).T, axis=0)\n",
    "    result = np.hstack((result, chroma_stft))\n",
    "\n",
    "    # MFCC\n",
    "    mfcc = np.mean(librosa.feature.mfcc(y=data, sr=sample_rate).T, axis=0)\n",
    "    result = np.hstack((result, mfcc))\n",
    "\n",
    "    # Root Mean Square Value\n",
    "    rms = np.mean(librosa.feature.rms(y=data).T, axis=0)\n",
    "    result = np.hstack((result, rms))\n",
    "\n",
    "    #Spectral centroid\n",
    "    sc = np.mean(librosa.feature.spectral_centroid(y=data, sr=sample_rate).T, axis=0)\n",
    "    result = np.hstack((result, sc))\n",
    "\n",
    "    #Spectral Spread\n",
    "    ss = np.mean(librosa.feature.spectral_bandwidth(y=data, sr=sample_rate).T, axis=0)\n",
    "    result = np.hstack((result, ss))\n",
    "\n",
    "    # Spectral Flux\n",
    "    sf = np.mean(librosa.onset.onset_strength(y=data, sr=sample_rate).T, axis=0)\n",
    "    result = np.hstack((result, sf))\n",
    "\n",
    "    # Spectral Roll-Off\n",
    "    srf = np.mean(librosa.feature.spectral_rolloff(y=data, sr=sample_rate).T, axis=0)\n",
    "    result = np.hstack((result, srf))\n",
    "\n",
    "    # Chroma Vector\n",
    "    cv = np.mean(librosa.feature.chroma_stft(y=data, sr=sample_rate).T, axis=0)\n",
    "    result = np.hstack((result, cv))\n",
    "\n",
    "    # MelSpectogram\n",
    "    mel = np.mean(librosa.feature.melspectrogram(y=data, sr=sample_rate).T, axis=0)\n",
    "    result = np.hstack((result, mel))\n",
    "    \n",
    "    return result"
   ]
  },
  {
   "cell_type": "code",
   "execution_count": 22,
   "metadata": {},
   "outputs": [],
   "source": [
    "def get_features(data_folder,filename):\n",
    "    data, sample_rate = librosa.load(os.path.join(data_folder, filename), duration=2.5, offset=0.6)\n",
    "    \n",
    "    res = extract_features(data, sample_rate)\n",
    "    result = np.array(res)\n",
    "    \n",
    "    return result"
   ]
  },
  {
   "cell_type": "code",
   "execution_count": 31,
   "metadata": {},
   "outputs": [],
   "source": [
    "data_folder = os.path.join(os.path.dirname(os.getcwd()), 'data', 'raw_file',\"RAVDESS\")\n",
    "X, Y = [], []\n",
    "for filename in os.listdir(data_folder):\n",
    "    feature = get_features(data_folder,filename)\n",
    "    file_parts = filename.split('-')\n",
    "    emotion = int(file_parts[2])\n",
    "    X.append(feature)\n",
    "    Y.append(emotion)\n",
    "\n",
    "folders = [\"OAF_neutral\",\"OAF_calm\",\"OAF_happy\",\"OAF_sad\",\"OAF_angry\",\"OAF_fear\", \"OAF_disgust\",\"OAF_Pleasant_surprise\"]\n",
    "for folder in folders:\n",
    "    folder_path = os.path.join(os.path.dirname(os.getcwd()), 'data', 'raw_file',\"TESS\",folder)\n",
    "    for filename in os.listdir(folder_path):\n",
    "        feature = get_features(folder_path,filename)\n",
    "        file_parts = filename.split('-')\n",
    "        emotion = int(file_parts[2])\n",
    "        X.append(feature)\n",
    "        Y.append(emotion)\n"
   ]
  },
  {
   "cell_type": "code",
   "execution_count": 32,
   "metadata": {},
   "outputs": [
    {
     "data": {
      "text/plain": [
       "(4240, 179)"
      ]
     },
     "execution_count": 32,
     "metadata": {},
     "output_type": "execute_result"
    }
   ],
   "source": [
    "Features = pd.DataFrame(X)\n",
    "Features['labels'] = Y\n",
    "Features.to_csv(r\"../data/data_proccesed.csv\",index=False)\n",
    "Features.head()"
   ]
  }
 ],
 "metadata": {
  "kernelspec": {
   "display_name": "tf_test",
   "language": "python",
   "name": "python3"
  },
  "language_info": {
   "codemirror_mode": {
    "name": "ipython",
    "version": 3
   },
   "file_extension": ".py",
   "mimetype": "text/x-python",
   "name": "python",
   "nbconvert_exporter": "python",
   "pygments_lexer": "ipython3",
   "version": "3.9.18"
  }
 },
 "nbformat": 4,
 "nbformat_minor": 2
}

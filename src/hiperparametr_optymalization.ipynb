{
 "cells": [
  {
   "cell_type": "code",
   "execution_count": 2,
   "metadata": {},
   "outputs": [
    {
     "name": "stdout",
     "output_type": "stream",
     "text": [
      "3.6.1\n"
     ]
    },
    {
     "name": "stderr",
     "output_type": "stream",
     "text": [
      "c:\\Users\\Kuba\\AppData\\Local\\Programs\\Python\\Python311\\Lib\\site-packages\\tqdm\\auto.py:21: TqdmWarning: IProgress not found. Please update jupyter and ipywidgets. See https://ipywidgets.readthedocs.io/en/stable/user_install.html\n",
      "  from .autonotebook import tqdm as notebook_tqdm\n"
     ]
    }
   ],
   "source": [
    "import numpy as np\n",
    "import tensorflow as tf\n",
    "\n",
    "import pandas as pd\n",
    "from tensorflow.keras import layers\n",
    "from tensorflow.keras import models\n",
    "\n",
    "from tensorflow.keras.callbacks import LearningRateScheduler\n",
    "from sklearn.model_selection import train_test_split\n",
    "from tensorflow.keras import layers\n",
    "from tensorflow.keras import models\n",
    "from keras.callbacks import ModelCheckpoint\n",
    "from tensorflow.keras.callbacks import EarlyStopping\n",
    "\n",
    "import optuna\n",
    "print(optuna.__version__)"
   ]
  },
  {
   "cell_type": "code",
   "execution_count": 6,
   "metadata": {},
   "outputs": [],
   "source": [
    "Features=pd.read_csv(\"../data/data_proccesed.csv\")\n",
    "X = Features.iloc[: ,:-1].values\n",
    "Y = Features['labels'].values\n",
    "\n",
    "x_train, x_test, y_train, y_test = train_test_split(X, Y, test_size=0.2, random_state=42)\n",
    "\n",
    "def custom_scheduler(epoch, lr):\n",
    "    if epoch < 10:\n",
    "        return lr\n",
    "    else:\n",
    "        return float(lr * tf.math.exp(-0.02))\n",
    "scheduler = LearningRateScheduler(custom_scheduler)\n",
    "\n",
    "model_save = ModelCheckpoint(r\"../model/best_model.h5\",\n",
    "                              save_best_only=True,\n",
    "                             mode='max',\n",
    "                             monitor='val_accuracy',\n",
    "                             initial_value_threshold=0.80,\n",
    "                             verbose=1)\n",
    "\n",
    "\n",
    "normalizer = layers.Normalization()\n",
    "normalizer.adapt(X)"
   ]
  },
  {
   "cell_type": "code",
   "execution_count": 7,
   "metadata": {},
   "outputs": [],
   "source": [
    "def objective(trial):\n",
    "    dropout_rate = trial.suggest_float('dropout_rate', 0.1, 0.4)\n",
    "    batch_size = trial.suggest_categorical('batch_size', [32, 64])\n",
    "\n",
    "    n_1_layers = trial.suggest_int('n_layers', 1, 3)\n",
    "    n_2_layers = trial.suggest_int('n_layers', 1, 3)\n",
    "    n_layers_dense = trial.suggest_int('n_layers', 1, 3)\n",
    "\n",
    "    model = models.Sequential()\n",
    "    model.add(layers.Input(shape=(x_train.shape[1],)))\n",
    "    model.add(normalizer)\n",
    "    model.add(layers.Reshape((x_train.shape[1], 1))) \n",
    "\n",
    "    for i in range(n_1_layers):\n",
    "        num_neurons_conv_1 = trial.suggest_int(f'n_1_units_l{i}', 128, 1024, log=True)\n",
    "        model.add(tf.keras.layers.Dense(num_neurons_conv_1, activation='relu')),\n",
    "\n",
    "    model.add(layers.MaxPooling1D())\n",
    "\n",
    "    for i in range(n_2_layers):\n",
    "        num_neurons_conv_2 = trial.suggest_int(f'n_2_units_l{i}', 128, 1024, log=True)\n",
    "        model.add(tf.keras.layers.Dense(num_neurons_conv_2, activation='relu')),\n",
    "    model.add(layers.MaxPooling1D())\n",
    "\n",
    "    model.add(layers.Flatten())\n",
    "        \n",
    "    for i in range(n_layers_dense):\n",
    "        num_neurons_dense = trial.suggest_int(f'n_3_units_l{i}', 128, 1024, log=True)\n",
    "        layers.Dropout(dropout_rate),\n",
    "        model.add(tf.keras.layers.Dense(num_neurons_dense, activation='relu')),\n",
    "\n",
    "    model.add(layers.Dense(9, activation='softmax'))\n",
    "    \n",
    "    \n",
    "\n",
    "    model.compile(\n",
    "        optimizer='adam',\n",
    "        loss='sparse_categorical_crossentropy',\n",
    "        metrics=['accuracy'],\n",
    "    )\n",
    "    \n",
    "    # Fit the model\n",
    "    history = model.fit(\n",
    "        x_train, y_train,\n",
    "        epochs=60, batch_size=batch_size,\n",
    "        validation_data=(x_test, y_test),\n",
    "        callbacks=[scheduler, model_save],\n",
    "        verbose=0\n",
    "    )\n",
    "    \n",
    "    # Return the validation loss\n",
    "    return history.history['val_loss'][-1]\n",
    "\n",
    "# # Perform optimization\n",
    "study = optuna.create_study(direction='maximize')\n",
    "study.optimize(objective, n_trials=40)\n",
    "\n",
    "# Print best parameters\n",
    "print('Best trial:')\n",
    "trial = study.best_trial\n",
    "print('  Value: {}'.format(trial.value))\n",
    "print('  Params: ')\n",
    "for key, value in trial.params.items():\n",
    "    print('    {}: {}'.format(key, value))"
   ]
  }
 ],
 "metadata": {
  "kernelspec": {
   "display_name": "tf_test",
   "language": "python",
   "name": "python3"
  },
  "language_info": {
   "codemirror_mode": {
    "name": "ipython",
    "version": 3
   },
   "file_extension": ".py",
   "mimetype": "text/x-python",
   "name": "python",
   "nbconvert_exporter": "python",
   "pygments_lexer": "ipython3",
   "version": "3.11.0"
  }
 },
 "nbformat": 4,
 "nbformat_minor": 2
}
